{
 "cells": [
  {
   "cell_type": "code",
   "execution_count": 1,
   "metadata": {},
   "outputs": [
    {
     "name": "stderr",
     "output_type": "stream",
     "text": [
      "C:\\ProgramData\\Anaconda3\\lib\\site-packages\\statsmodels\\tools\\_testing.py:19: FutureWarning: pandas.util.testing is deprecated. Use the functions in the public API at pandas.testing instead.\n",
      "  import pandas.util.testing as tm\n",
      "Using TensorFlow backend.\n"
     ]
    }
   ],
   "source": [
    "from utils_3_v1 import *\n",
    "import pandas as pd\n",
    "import numpy as np\n",
    "import glob\n",
    "from keras.utils import np_utils\n",
    "import multiprocessing\n",
    "import time\n",
    "from sklearn.model_selection import train_test_split\n",
    "from sklearn.metrics import accuracy_score\n",
    "import pickle\n",
    "import matplotlib.pyplot as plt\n",
    "from sklearn.metrics import classification_report, confusion_matrix"
   ]
  },
  {
   "cell_type": "code",
   "execution_count": 2,
   "metadata": {},
   "outputs": [],
   "source": [
    "path_to_midway = '/scratch/midway2/reshmask/' #change your scratch/home directory to save and load npy files\n",
    "date           = '1003'\n",
    "pool           = multiprocessing.Pool(processes=multiprocessing.cpu_count()) # multiprocessing initialization"
   ]
  },
  {
   "cell_type": "markdown",
   "metadata": {},
   "source": [
    "### Loading metadata:\n",
    "* Loading filtered mp3 audio speech files (52433, 8) - Refer to notebook 1"
   ]
  },
  {
   "cell_type": "code",
   "execution_count": 14,
   "metadata": {},
   "outputs": [
    {
     "name": "stdout",
     "output_type": "stream",
     "text": [
      "Loading metadata\n"
     ]
    },
    {
     "data": {
      "text/plain": [
       "(52433, 8)"
      ]
     },
     "execution_count": 14,
     "metadata": {},
     "output_type": "execute_result"
    }
   ],
   "source": [
    "print('Loading metadata')\n",
    "filtered_audios = pd.read_csv('FilteredMP3.csv')\n",
    "filtered_audios['filename'] = filtered_audios['filename'].apply(lambda x: x.replace('.mp3','.wav'))\n",
    "filtered_audios.shape"
   ]
  },
  {
   "cell_type": "markdown",
   "metadata": {},
   "source": [
    "### Create dummies for Gender and Age:\n",
    "* Age dummies : 'seventies', 'thirties', 'twenties', 'sixties', 'fourties', 'fifties', 'teens', 'eighties'\n",
    "* Gender dummies : 'male', 'female'"
   ]
  },
  {
   "cell_type": "code",
   "execution_count": 15,
   "metadata": {},
   "outputs": [],
   "source": [
    "filtered_audios_dummies= pd.concat([filtered_audios['filename'],filtered_audios['accent'], pd.get_dummies(filtered_audios['gender']), pd.get_dummies(filtered_audios['age'])], axis=1)"
   ]
  },
  {
   "cell_type": "code",
   "execution_count": 5,
   "metadata": {},
   "outputs": [],
   "source": [
    "# print('Checking stats of accent')\n",
    "# filtered_audios_dummies['accent'].value_counts(normalize=True)"
   ]
  },
  {
   "cell_type": "markdown",
   "metadata": {},
   "source": [
    "### Filtered accent:\n",
    "* Selected top 5 accents by looking at the distribution; 'US', 'England', 'Canada', 'Indian', 'Australia'\n",
    "* Shape of the filtered file is 41366, 8\n",
    "* Mapped accent category to number "
   ]
  },
  {
   "cell_type": "code",
   "execution_count": 16,
   "metadata": {},
   "outputs": [
    {
     "data": {
      "text/plain": [
       "(41366, 12)"
      ]
     },
     "execution_count": 16,
     "metadata": {},
     "output_type": "execute_result"
    }
   ],
   "source": [
    "accent_dict = {'us':0, 'australia':1, 'england':2, 'indian':3, 'canada':4, 'scotland':5,\n",
    "       'african':6, 'newzealand':7, 'ireland':8, 'bermuda':9, 'wales':10, 'malaysia':11,\n",
    "       'philippines':12, 'hongkong':13, 'singapore':14, 'southatlandtic':15}\n",
    "filtered_audios_dummies['accent'] = filtered_audios_dummies['accent'].map(accent_dict)\n",
    "filtered_audios_dummies_accent    = filtered_audios_dummies[filtered_audios_dummies['accent'].isin([0, 1, 2, 3, 4])]\n",
    "filtered_audios_dummies_accent.shape"
   ]
  },
  {
   "cell_type": "code",
   "execution_count": 17,
   "metadata": {},
   "outputs": [],
   "source": [
    "filtered_audios_dummies_accent = filtered_audios_dummies_accent[:100] #-- for testing purpose"
   ]
  },
  {
   "cell_type": "markdown",
   "metadata": {},
   "source": [
    "### Seperate and split train, validation and test set:\n",
    "* X = array of filenames, Y = array of top 5 accents\n",
    "* Split train, val, test into 50%, 20% and 30%\n",
    "* Stratified accent for all 3 sets to have equal distribution of y"
   ]
  },
  {
   "cell_type": "code",
   "execution_count": 18,
   "metadata": {},
   "outputs": [],
   "source": [
    "X = filtered_audios_dummies_accent.drop('accent', axis=1)#['filename'].values\n",
    "Y = filtered_audios_dummies_accent['accent'].values"
   ]
  },
  {
   "cell_type": "code",
   "execution_count": 19,
   "metadata": {},
   "outputs": [],
   "source": [
    "X_, X_test, Y_, y_test = train_test_split(X, Y, test_size=0.30, random_state=99, stratify=Y)\n",
    "X_train, X_val, y_train, y_val = train_test_split(X_, Y_, test_size=0.2855, random_state=99, stratify=Y_)"
   ]
  },
  {
   "cell_type": "code",
   "execution_count": 20,
   "metadata": {},
   "outputs": [
    {
     "name": "stdout",
     "output_type": "stream",
     "text": [
      "shape of train file: (50, 11)\n",
      "shape of validation file: (20, 11)\n",
      "shape of test file: (30, 11)\n"
     ]
    }
   ],
   "source": [
    "print ('shape of train file:', X_train.shape)\n",
    "print ('shape of validation file:', X_val.shape)\n",
    "print ('shape of test file:', X_test.shape)"
   ]
  },
  {
   "cell_type": "markdown",
   "metadata": {},
   "source": [
    "### Read wav file for train and test:\n",
    "* Multiprocessed both train and test data files\n",
    "* Used librosa library to load wav files"
   ]
  },
  {
   "cell_type": "code",
   "execution_count": 21,
   "metadata": {},
   "outputs": [
    {
     "name": "stdout",
     "output_type": "stream",
     "text": [
      "Loading wav files....\n",
      "total time for processing is: 0.44027260144551594\n"
     ]
    }
   ],
   "source": [
    "print('Loading wav files....')\n",
    "start_time  = time.time()\n",
    "train_wav   = pool.map(get_wav, X_train['filename'].values)\n",
    "val_wav     = pool.map(get_wav, X_val['filename'].values)\n",
    "test_wav    = pool.map(get_wav, X_test['filename'].values)\n",
    "print('total time for processing is:', (time.time()- start_time)/60.0)"
   ]
  },
  {
   "cell_type": "markdown",
   "metadata": {},
   "source": [
    "### Save train, test and validation wav file:\n",
    " * Saving y and X for train, test and validation"
   ]
  },
  {
   "cell_type": "code",
   "execution_count": 12,
   "metadata": {},
   "outputs": [],
   "source": [
    "# np.save(path_to_midway + 'train_wav.npy', train_wav)\n",
    "# np.save(path_to_midway + 'val_wav.npy', val_wav)\n",
    "# np.save(path_to_midway + 'test_wav.npy', test_wav)\n",
    "\n",
    "# np.save(path_to_midway + 'y_train.npy', y_train)\n",
    "# np.save(path_to_midway + 'y_test.npy', y_test)\n",
    "# np.save(path_to_midway + 'y_val.npy', y_val)\n",
    "\n",
    "# X_train.to_csv(path_to_midway+'X_train.csv', index=False)\n",
    "# X_test.to_csv(path_to_midway+'X_test.csv', index=False)\n",
    "# X_val.to_csv(path_to_midway+'X_val.csv', index=False)"
   ]
  },
  {
   "cell_type": "markdown",
   "metadata": {},
   "source": [
    "### Load npy train, test and validation wav file:"
   ]
  },
  {
   "cell_type": "code",
   "execution_count": 14,
   "metadata": {},
   "outputs": [],
   "source": [
    "train_wav = np.load('/scratch/midway2/reshmask/train_wav.npy', allow_pickle=True)\n",
    "test_wav  = np.load('/scratch/midway2/reshmask/test_wav.npy', allow_pickle=True)\n",
    "val_wav   = np.load('/scratch/midway2/reshmask/val_wav.npy', allow_pickle=True)\n",
    "\n",
    "y_train   = np.load('/scratch/midway2/reshmask/y_train.npy', allow_pickle=True)\n",
    "y_test    = np.load('/scratch/midway2/reshmask/y_test.npy', allow_pickle=True)\n",
    "y_val     = np.load('/scratch/midway2/reshmask/y_val.npy', allow_pickle=True)\n",
    "\n",
    "X_train   = pd.read_csv(path_to_midway+'X_train.csv')\n",
    "X_test    = pd.read_csv(path_to_midway+'X_test.csv')\n",
    "X_val     = pd.read_csv(path_to_midway+'X_val.csv')"
   ]
  },
  {
   "cell_type": "markdown",
   "metadata": {},
   "source": [
    "### Trim log silences/pauses in train and test:"
   ]
  },
  {
   "cell_type": "code",
   "execution_count": 22,
   "metadata": {},
   "outputs": [
    {
     "name": "stdout",
     "output_type": "stream",
     "text": [
      "Trimming wav files....\n",
      "total time for processing is: 0.015724591414133706\n"
     ]
    }
   ],
   "source": [
    "print('Trimming wav files....')\n",
    "start_time  = time.time()\n",
    "train_trim  = pool.map(trim_long_silences, train_wav)\n",
    "val_trim    = pool.map(trim_long_silences, val_wav)\n",
    "test_trim   = pool.map(trim_long_silences, test_wav)\n",
    "print('total time for processing is:', (time.time()- start_time)/60.0)"
   ]
  },
  {
   "cell_type": "markdown",
   "metadata": {},
   "source": [
    "### Feature extraction using Kaldi-toolkit:\n",
    "* mfcc - 13 (12 cfpc coef, 1 energy)\n",
    "* filterbank - 32\n",
    "* delta_1, delta_2 - 64 each\n",
    "* Frame level accent vector"
   ]
  },
  {
   "cell_type": "code",
   "execution_count": 24,
   "metadata": {},
   "outputs": [
    {
     "name": "stdout",
     "output_type": "stream",
     "text": [
      "Get Kaldi features....\n",
      "total time for processing is: 0.0762460986773173\n"
     ]
    }
   ],
   "source": [
    "print('Get Kaldi features....')\n",
    "start_time      = time.time()\n",
    "train_features, y_train_, train_len_  = get_kaldi_features(train_trim, y_train, X_train)\n",
    "val_features, y_val_, val_len_        = get_kaldi_features(val_trim, y_val, X_val)\n",
    "test_features, y_test_, test_len_     = get_kaldi_features(test_trim, y_test, X_test)\n",
    "print('total time for processing is:', (time.time()- start_time)/60.0)"
   ]
  },
  {
   "cell_type": "code",
   "execution_count": 25,
   "metadata": {},
   "outputs": [],
   "source": [
    "# print('Get Kaldi features....')\n",
    "# start_time = time.time()\n",
    "# train_arr  = pool.starmap(get_kaldi_features, zip(train_trim, y_train, X_train.values))\n",
    "# val_arr    = pool.starmap(get_kaldi_features, zip(val_trim, y_val, X_val.values))\n",
    "# test_arr   = pool.starmap(get_kaldi_features, zip(test_trim, y_test, X_test.values))\n",
    "# print('total time for processing is:', (time.time()- start_time)/60.0)"
   ]
  },
  {
   "cell_type": "code",
   "execution_count": 26,
   "metadata": {},
   "outputs": [],
   "source": [
    "# print('Convert feature form....')\n",
    "# start_time                            = time.time()\n",
    "# train_features, y_train_, train_len_  = convert_feat_form(train_arr)\n",
    "# val_features, y_val_, val_len_        = convert_feat_form(val_arr)\n",
    "# test_features, y_test_, test_len_     = convert_feat_form(test_arr)\n",
    "# print('total time for processing is:', (time.time()- start_time)/60.0)"
   ]
  },
  {
   "cell_type": "markdown",
   "metadata": {},
   "source": [
    "### Training a Model:\n",
    "* conv1D"
   ]
  },
  {
   "cell_type": "code",
   "execution_count": 28,
   "metadata": {},
   "outputs": [
    {
     "data": {
      "text/plain": [
       "(119, 1)"
      ]
     },
     "execution_count": 28,
     "metadata": {},
     "output_type": "execute_result"
    }
   ],
   "source": [
    "# batch_size  = 100 \n",
    "# epochs      = 20 \n",
    "nb_classes  = 5 \n",
    "input_shape = (train_features.shape[1],1) \n",
    "input_shape"
   ]
  },
  {
   "cell_type": "code",
   "execution_count": 22,
   "metadata": {},
   "outputs": [],
   "source": [
    "Y_train    = np_utils.to_categorical(y_train_, nb_classes)\n",
    "Y_val      = np_utils.to_categorical(y_val_, nb_classes)\n",
    "\n",
    "xts        = train_features.shape\n",
    "train_X    = np.reshape(train_features, (xts[0], xts[1], 1))\n",
    "xtv        = val_features.shape\n",
    "val_X      = np.reshape(val_features, (xtv[0], xtv[1], 1))\n",
    "xtt        = test_features.shape\n",
    "test_X     = np.reshape(test_features, (xtt[0], xtt[1], 1))"
   ]
  },
  {
   "cell_type": "code",
   "execution_count": 23,
   "metadata": {},
   "outputs": [
    {
     "name": "stdout",
     "output_type": "stream",
     "text": [
      "Train on 21109 samples, validate on 7903 samples\n",
      "Epoch 1/20\n",
      "21109/21109 [==============================] - 25s 1ms/step - loss: 1.2649 - convo_f1_score: 0.3959 - val_loss: 1.1848 - val_convo_f1_score: 0.3837\n",
      "Epoch 2/20\n",
      "21109/21109 [==============================] - 24s 1ms/step - loss: 1.0046 - convo_f1_score: 0.5387 - val_loss: 1.5142 - val_convo_f1_score: 0.4967\n",
      "Epoch 3/20\n",
      "21109/21109 [==============================] - 22s 1ms/step - loss: 0.8426 - convo_f1_score: 0.6352 - val_loss: 1.4646 - val_convo_f1_score: 0.4487\n",
      "Epoch 4/20\n",
      "21109/21109 [==============================] - 22s 1ms/step - loss: 0.6695 - convo_f1_score: 0.7386 - val_loss: 1.6741 - val_convo_f1_score: 0.4719\n",
      "Epoch 00004: early stopping\n"
     ]
    }
   ],
   "source": [
    "model_history, nn_blstm = train_blstm_model(train_X, Y_train, val_X, Y_val, input_shape)"
   ]
  },
  {
   "cell_type": "code",
   "execution_count": 27,
   "metadata": {},
   "outputs": [
    {
     "data": {
      "text/plain": [
       "dict_keys(['val_loss', 'val_convo_f1_score', 'loss', 'convo_f1_score'])"
      ]
     },
     "execution_count": 27,
     "metadata": {},
     "output_type": "execute_result"
    }
   ],
   "source": [
    "model_history.history.keys()"
   ]
  },
  {
   "cell_type": "code",
   "execution_count": 29,
   "metadata": {},
   "outputs": [
    {
     "name": "stdout",
     "output_type": "stream",
     "text": [
      "dict_keys(['val_loss', 'val_convo_f1_score', 'loss', 'convo_f1_score'])\n"
     ]
    },
    {
     "data": {
      "image/png": "[encoded data removed]",
      "text/plain": [
       "<Figure size 432x288 with 1 Axes>"
      ]
     },
     "metadata": {
      "needs_background": "light"
     },
     "output_type": "display_data"
    },
    {
     "data": {
      "image/png": "[encoded data removed]",
      "text/plain": [
       "<Figure size 432x288 with 1 Axes>"
      ]
     },
     "metadata": {
      "needs_background": "light"
     },
     "output_type": "display_data"
    }
   ],
   "source": [
    "print('plotting train and test accuracy/f1-score/loss')\n",
    "# summarize history for accuracy\n",
    "plt.plot(model_history.history['convo_f1_score'])\n",
    "plt.plot(model_history.history['val_convo_f1_score'])\n",
    "plt.title('model F1 score')\n",
    "plt.ylabel('F1 Score')\n",
    "plt.xlabel('epoch')\n",
    "plt.legend(['train', 'test'], loc='upper left')\n",
    "plt.savefig(path_to_midway+'blstm_f1_score.png'.format(date),bbox_inches='tight')\n",
    "plt.show()\n",
    "# summarize history for loss\n",
    "plt.plot(model_history.history['loss'])\n",
    "plt.plot(model_history.history['val_loss'])\n",
    "plt.title('model loss')\n",
    "plt.ylabel('loss')\n",
    "plt.xlabel('epoch')\n",
    "plt.legend(['train', 'test'], loc='upper left')\n",
    "plt.savefig(path_to_midway+'blstm_loss.png'.format(date), bbox_inches='tight')\n",
    "plt.show()"
   ]
  },
  {
   "cell_type": "markdown",
   "metadata": {},
   "source": [
    "### Save conv1D model"
   ]
  },
  {
   "cell_type": "code",
   "execution_count": null,
   "metadata": {},
   "outputs": [],
   "source": [
    "print ('saving a model file')\n",
    "nn_1d.save(path_to_midway+\"nn_blstm.h5\")"
   ]
  },
  {
   "cell_type": "markdown",
   "metadata": {},
   "source": [
    "### Prediction for test set:\n",
    "* Calculate frame level accuracy"
   ]
  },
  {
   "cell_type": "code",
   "execution_count": 33,
   "metadata": {},
   "outputs": [],
   "source": [
    "y_pred_test     = nn_blstm.predict(test_X)\n",
    "y_pred_test_cls = np.argmax(y_pred_test, axis=1)"
   ]
  },
  {
   "cell_type": "code",
   "execution_count": 34,
   "metadata": {},
   "outputs": [],
   "source": [
    "y_pred_val     = nn_blstm.predict(val_X)\n",
    "y_pred_val_cls = np.argmax(y_pred_val, axis=1)"
   ]
  },
  {
   "cell_type": "code",
   "execution_count": 35,
   "metadata": {},
   "outputs": [],
   "source": [
    "y_pred_train     = nn_blstm.predict(train_X) \n",
    "y_pred_train_cls = np.argmax(y_pred_train, axis=1)"
   ]
  },
  {
   "cell_type": "code",
   "execution_count": 36,
   "metadata": {},
   "outputs": [
    {
     "name": "stdout",
     "output_type": "stream",
     "text": [
      "Frame level accuracy for train set: 0.7700506892794543\n"
     ]
    }
   ],
   "source": [
    "print ('Frame level accuracy for train set:', accuracy_score(y_train_, y_pred_train_cls))"
   ]
  },
  {
   "cell_type": "code",
   "execution_count": 37,
   "metadata": {},
   "outputs": [
    {
     "name": "stdout",
     "output_type": "stream",
     "text": [
      "Frame level accuracy for val set: 0.48551183095027206\n"
     ]
    }
   ],
   "source": [
    "print ('Frame level accuracy for val set:', accuracy_score(y_val_, y_pred_val_cls))"
   ]
  },
  {
   "cell_type": "code",
   "execution_count": 38,
   "metadata": {},
   "outputs": [
    {
     "name": "stdout",
     "output_type": "stream",
     "text": [
      "Frame level accuracy for test set: 0.48374419435512683\n"
     ]
    }
   ],
   "source": [
    "print ('Frame level accuracy for test set:', accuracy_score(y_test_, y_pred_test_cls))"
   ]
  },
  {
   "cell_type": "markdown",
   "metadata": {},
   "source": [
    "### Get speaker level accuracy:\n",
    "* Combine frame level accent ouput to find a major accent label for a speaker"
   ]
  },
  {
   "cell_type": "code",
   "execution_count": 39,
   "metadata": {},
   "outputs": [],
   "source": [
    "y_pred_train_cls_sp = get_speaker_pred(train_len_['frame_len'].values, y_pred_train_cls)\n",
    "y_pred_test_cls_sp  = get_speaker_pred(test_len_['frame_len'].values, y_pred_test_cls)\n",
    "y_pred_val_cls_sp   = get_speaker_pred(val_len_['frame_len'].values, y_pred_val_cls)"
   ]
  },
  {
   "cell_type": "code",
   "execution_count": 40,
   "metadata": {},
   "outputs": [
    {
     "name": "stdout",
     "output_type": "stream",
     "text": [
      "Speaker level accuracy for train: 0.8\n"
     ]
    }
   ],
   "source": [
    "print ('Speaker level accuracy for train:', accuracy_score(train_len_['accent'], y_pred_train_cls_sp))"
   ]
  },
  {
   "cell_type": "code",
   "execution_count": 41,
   "metadata": {},
   "outputs": [
    {
     "name": "stdout",
     "output_type": "stream",
     "text": [
      "Speaker level accuracy for val: 0.5\n"
     ]
    }
   ],
   "source": [
    "print ('Speaker level accuracy for val:',   accuracy_score(val_len_['accent'], y_pred_val_cls_sp))"
   ]
  },
  {
   "cell_type": "code",
   "execution_count": 42,
   "metadata": {},
   "outputs": [
    {
     "name": "stdout",
     "output_type": "stream",
     "text": [
      "Speaker level accuracy for test: 0.5666666666666667\n"
     ]
    }
   ],
   "source": [
    "print ('Speaker level accuracy for test:',  accuracy_score(test_len_['accent'], y_pred_test_cls_sp))"
   ]
  },
  {
   "cell_type": "code",
   "execution_count": 54,
   "metadata": {},
   "outputs": [
    {
     "name": "stdout",
     "output_type": "stream",
     "text": [
      "saving classification reports at speaker level..\n"
     ]
    }
   ],
   "source": [
    "print ('saving classification reports at speaker level..')\n",
    "save_report('nn_bsltm_train',train_len_['accent'], y_pred_train_cls_sp)\n",
    "save_report('nn_blstm_val',val_len_['accent'], y_pred_val_cls_sp)\n",
    "save_report('nn_blstm_test',test_len_['accent'], y_pred_test_cls_sp)"
   ]
  },
  {
   "cell_type": "code",
   "execution_count": null,
   "metadata": {},
   "outputs": [],
   "source": [
    "all_classes = ['US', 'Australia', 'England', 'Indian', 'Canada']"
   ]
  },
  {
   "cell_type": "code",
   "execution_count": null,
   "metadata": {},
   "outputs": [],
   "source": [
    "print ('saving confusion matrix at speaker level..')\n",
    "save_cm('nn_blstm_train_cm',train_len_['accent'], y_pred_train_cls_sp, all_classes)\n",
    "save_cm('nn_blstm_val_cm',val_len_['accent'], y_pred_val_cls_sp, all_classes)\n",
    "save_cm('nn_blstm_test_cm',test_len_['accent'], y_pred_test_cls_sp, all_classes)"
   ]
  },
  {
   "cell_type": "code",
   "execution_count": null,
   "metadata": {},
   "outputs": [],
   "source": [
    "# Frame level accuracy for train set: 0.8274350195402107\n",
    "# Frame level accuracy for val set: 0.7432034065709191\n",
    "# Frame level accuracy for test set: 0.7424890623253455\n",
    "# Speaker level accuracy for train: 0.9350360373433948\n",
    "# Speaker level accuracy for val: 0.8380963913780577\n",
    "# Speaker level accuracy for test: 0.8385223423132764"
   ]
  },
  {
   "cell_type": "code",
   "execution_count": 17,
   "metadata": {},
   "outputs": [
    {
     "name": "stderr",
     "output_type": "stream",
     "text": [
      "C:\\Users\\SSK\\Documents\\UC - MScA\\Courses\\04-Spring_2020\\04-DeepLearning\\Project\\data_to_explore\\utils_3_v1.py:270: UserWarning: The `nb_epoch` argument in `fit` has been renamed `epochs`.\n",
      "  model.fit(train_X, Y_train, batch_size=batch_size, nb_epoch=5, validation_data=(val_X, Y_val))\n"
     ]
    },
    {
     "name": "stdout",
     "output_type": "stream",
     "text": [
      "Train on 21109 samples, validate on 7903 samples\n",
      "Epoch 1/5\n",
      "21109/21109 [==============================] - 374s 18ms/step - loss: 1.2914 - accuracy: 0.4977 - val_loss: 1.1550 - val_accuracy: 0.4968\n",
      "Epoch 2/5\n",
      "21109/21109 [==============================] - 470s 22ms/step - loss: 1.2136 - accuracy: 0.5269 - val_loss: 1.1403 - val_accuracy: 0.4913\n",
      "Epoch 3/5\n",
      "21109/21109 [==============================] - 770s 36ms/step - loss: 1.1931 - accuracy: 0.5264 - val_loss: 1.1434 - val_accuracy: 0.4896\n",
      "Epoch 4/5\n",
      "21109/21109 [==============================] - 962s 46ms/step - loss: 1.1597 - accuracy: 0.5284 - val_loss: 1.1735 - val_accuracy: 0.4797\n",
      "Epoch 5/5\n",
      "21109/21109 [==============================] - 1057s 50ms/step - loss: 1.1072 - accuracy: 0.5441 - val_loss: 1.2164 - val_accuracy: 0.4954\n"
     ]
    }
   ],
   "source": [
    "# nn_blstm = train_blstm_model(train_X, Y_train, val_X, Y_val, input_shape)"
   ]
  },
  {
   "cell_type": "code",
   "execution_count": null,
   "metadata": {},
   "outputs": [],
   "source": []
  }
 ],
 "metadata": {
  "kernelspec": {
   "display_name": "Python 3",
   "language": "python",
   "name": "python3"
  },
  "language_info": {
   "codemirror_mode": {
    "name": "ipython",
    "version": 3
   },
   "file_extension": ".py",
   "mimetype": "text/x-python",
   "name": "python",
   "nbconvert_exporter": "python",
   "pygments_lexer": "ipython3",
   "version": "3.7.1"
  }
 },
 "nbformat": 4,
 "nbformat_minor": 2
}
